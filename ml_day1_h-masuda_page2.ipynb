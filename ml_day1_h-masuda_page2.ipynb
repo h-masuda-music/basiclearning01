{
 "cells": [
  {
   "cell_type": "code",
   "execution_count": 33,
   "metadata": {},
   "outputs": [
    {
     "data": {
      "text/html": [
       "<div>\n",
       "<style scoped>\n",
       "    .dataframe tbody tr th:only-of-type {\n",
       "        vertical-align: middle;\n",
       "    }\n",
       "\n",
       "    .dataframe tbody tr th {\n",
       "        vertical-align: top;\n",
       "    }\n",
       "\n",
       "    .dataframe thead th {\n",
       "        text-align: right;\n",
       "    }\n",
       "</style>\n",
       "<table border=\"1\" class=\"dataframe\">\n",
       "  <thead>\n",
       "    <tr style=\"text-align: right;\">\n",
       "      <th></th>\n",
       "      <th>ID</th>\n",
       "      <th>name</th>\n",
       "      <th>category</th>\n",
       "      <th>main_category</th>\n",
       "      <th>currency</th>\n",
       "      <th>deadline</th>\n",
       "      <th>goal</th>\n",
       "      <th>launched</th>\n",
       "      <th>pledged</th>\n",
       "      <th>state</th>\n",
       "      <th>backers</th>\n",
       "      <th>country</th>\n",
       "      <th>usd pledged</th>\n",
       "      <th>usd_pledged_real</th>\n",
       "      <th>usd_goal_real</th>\n",
       "    </tr>\n",
       "  </thead>\n",
       "  <tbody>\n",
       "    <tr>\n",
       "      <th>0</th>\n",
       "      <td>1000002330</td>\n",
       "      <td>The Songs of Adelaide &amp; Abullah</td>\n",
       "      <td>Poetry</td>\n",
       "      <td>Publishing</td>\n",
       "      <td>GBP</td>\n",
       "      <td>2015-10-09</td>\n",
       "      <td>1000.0</td>\n",
       "      <td>2015-08-11 12:12:28</td>\n",
       "      <td>0.0</td>\n",
       "      <td>failed</td>\n",
       "      <td>0</td>\n",
       "      <td>GB</td>\n",
       "      <td>0.0</td>\n",
       "      <td>0.0</td>\n",
       "      <td>1533.95</td>\n",
       "    </tr>\n",
       "    <tr>\n",
       "      <th>1</th>\n",
       "      <td>1000003930</td>\n",
       "      <td>Greeting From Earth: ZGAC Arts Capsule For ET</td>\n",
       "      <td>Narrative Film</td>\n",
       "      <td>Film &amp; Video</td>\n",
       "      <td>USD</td>\n",
       "      <td>2017-11-01</td>\n",
       "      <td>30000.0</td>\n",
       "      <td>2017-09-02 04:43:57</td>\n",
       "      <td>2421.0</td>\n",
       "      <td>failed</td>\n",
       "      <td>15</td>\n",
       "      <td>US</td>\n",
       "      <td>100.0</td>\n",
       "      <td>2421.0</td>\n",
       "      <td>30000.00</td>\n",
       "    </tr>\n",
       "    <tr>\n",
       "      <th>2</th>\n",
       "      <td>1000004038</td>\n",
       "      <td>Where is Hank?</td>\n",
       "      <td>Narrative Film</td>\n",
       "      <td>Film &amp; Video</td>\n",
       "      <td>USD</td>\n",
       "      <td>2013-02-26</td>\n",
       "      <td>45000.0</td>\n",
       "      <td>2013-01-12 00:20:50</td>\n",
       "      <td>220.0</td>\n",
       "      <td>failed</td>\n",
       "      <td>3</td>\n",
       "      <td>US</td>\n",
       "      <td>220.0</td>\n",
       "      <td>220.0</td>\n",
       "      <td>45000.00</td>\n",
       "    </tr>\n",
       "    <tr>\n",
       "      <th>3</th>\n",
       "      <td>1000007540</td>\n",
       "      <td>ToshiCapital Rekordz Needs Help to Complete Album</td>\n",
       "      <td>Music</td>\n",
       "      <td>Music</td>\n",
       "      <td>USD</td>\n",
       "      <td>2012-04-16</td>\n",
       "      <td>5000.0</td>\n",
       "      <td>2012-03-17 03:24:11</td>\n",
       "      <td>1.0</td>\n",
       "      <td>failed</td>\n",
       "      <td>1</td>\n",
       "      <td>US</td>\n",
       "      <td>1.0</td>\n",
       "      <td>1.0</td>\n",
       "      <td>5000.00</td>\n",
       "    </tr>\n",
       "    <tr>\n",
       "      <th>4</th>\n",
       "      <td>1000011046</td>\n",
       "      <td>Community Film Project: The Art of Neighborhoo...</td>\n",
       "      <td>Film &amp; Video</td>\n",
       "      <td>Film &amp; Video</td>\n",
       "      <td>USD</td>\n",
       "      <td>2015-08-29</td>\n",
       "      <td>19500.0</td>\n",
       "      <td>2015-07-04 08:35:03</td>\n",
       "      <td>1283.0</td>\n",
       "      <td>canceled</td>\n",
       "      <td>14</td>\n",
       "      <td>US</td>\n",
       "      <td>1283.0</td>\n",
       "      <td>1283.0</td>\n",
       "      <td>19500.00</td>\n",
       "    </tr>\n",
       "  </tbody>\n",
       "</table>\n",
       "</div>"
      ],
      "text/plain": [
       "           ID                                               name  \\\n",
       "0  1000002330                    The Songs of Adelaide & Abullah   \n",
       "1  1000003930      Greeting From Earth: ZGAC Arts Capsule For ET   \n",
       "2  1000004038                                     Where is Hank?   \n",
       "3  1000007540  ToshiCapital Rekordz Needs Help to Complete Album   \n",
       "4  1000011046  Community Film Project: The Art of Neighborhoo...   \n",
       "\n",
       "         category main_category currency    deadline     goal  \\\n",
       "0          Poetry    Publishing      GBP  2015-10-09   1000.0   \n",
       "1  Narrative Film  Film & Video      USD  2017-11-01  30000.0   \n",
       "2  Narrative Film  Film & Video      USD  2013-02-26  45000.0   \n",
       "3           Music         Music      USD  2012-04-16   5000.0   \n",
       "4    Film & Video  Film & Video      USD  2015-08-29  19500.0   \n",
       "\n",
       "              launched  pledged     state  backers country  usd pledged  \\\n",
       "0  2015-08-11 12:12:28      0.0    failed        0      GB          0.0   \n",
       "1  2017-09-02 04:43:57   2421.0    failed       15      US        100.0   \n",
       "2  2013-01-12 00:20:50    220.0    failed        3      US        220.0   \n",
       "3  2012-03-17 03:24:11      1.0    failed        1      US          1.0   \n",
       "4  2015-07-04 08:35:03   1283.0  canceled       14      US       1283.0   \n",
       "\n",
       "   usd_pledged_real  usd_goal_real  \n",
       "0               0.0        1533.95  \n",
       "1            2421.0       30000.00  \n",
       "2             220.0       45000.00  \n",
       "3               1.0        5000.00  \n",
       "4            1283.0       19500.00  "
      ]
     },
     "execution_count": 33,
     "metadata": {},
     "output_type": "execute_result"
    }
   ],
   "source": [
    "import numpy as np\n",
    "import pandas as pd\n",
    "import matplotlib.pyplot as plt\n",
    "import seaborn as sns\n",
    "from sklearn.linear_model import SGDClassifier\n",
    "from sklearn.metrics import log_loss, accuracy_score, confusion_matrix\n",
    "df=pd.read_csv('ks-projects-201801.csv',encoding= 'latin_1')\n",
    "df.head()"
   ]
  },
  {
   "cell_type": "code",
   "execution_count": 34,
   "metadata": {},
   "outputs": [
    {
     "data": {
      "text/plain": [
       "Index(['ID', 'name', 'category', 'main_category', 'currency', 'deadline',\n",
       "       'goal', 'launched', 'pledged', 'state', 'backers', 'country',\n",
       "       'usd pledged', 'usd_pledged_real', 'usd_goal_real'],\n",
       "      dtype='object')"
      ]
     },
     "execution_count": 34,
     "metadata": {},
     "output_type": "execute_result"
    }
   ],
   "source": [
    "df.columns"
   ]
  },
  {
   "cell_type": "markdown",
   "metadata": {},
   "source": [
    "今回の方針  \n",
    "nameは扱いが難しいので削除  \n",
    "categoryは数が多すぎる、分類が細かすぎるので削除  \n",
    "main_categoryは種類毎に数字化する  \n",
    "currencyはcountryと相関が高そうだがとりあえず数字化する  \n",
    "deadlineはとりあえず数字化するけど、本来は月とかだけでもいいかもしれない  \n",
    "goalは使用しない、目標額にはusd_goal_realを使用する  \n",
    "launchedは開始時刻、これは推定をするときにはわからないデータとして判断すると削除する方針  \n",
    "pledgedは到達金額、つまり結果の事なので、今回の分類には使用しない  \n",
    "stateは目的変数として使用する  \n",
    "backersは支援者の数、これも結果なので、今回は使用しない  \n",
    "countryは数字化するが、アメリカが多すぎるのでどう対応するかは迷う  \n",
    "usd pledgedは結果なので使用しない。  \n",
    "usd_goal_realは使用する。  \n"
   ]
  },
  {
   "cell_type": "markdown",
   "metadata": {},
   "source": [
    "### 目的変数"
   ]
  },
  {
   "cell_type": "code",
   "execution_count": 35,
   "metadata": {},
   "outputs": [
    {
     "name": "stdout",
     "output_type": "stream",
     "text": [
      "failed        197719\n",
      "successful    133956\n",
      "canceled       38779\n",
      "undefined       3562\n",
      "live            2799\n",
      "suspended       1846\n",
      "Name: state, dtype: int64\n"
     ]
    },
    {
     "data": {
      "text/plain": [
       "<matplotlib.axes._subplots.AxesSubplot at 0x1a8b174f2b0>"
      ]
     },
     "execution_count": 35,
     "metadata": {},
     "output_type": "execute_result"
    },
    {
     "data": {
      "image/png": "[encoded data removed]",
      "text/plain": [
       "<Figure size 432x288 with 1 Axes>"
      ]
     },
     "metadata": {
      "needs_background": "light"
     },
     "output_type": "display_data"
    }
   ],
   "source": [
    "print(df['state'].value_counts())\n",
    "dft=df.copy()\n",
    "dft.drop(dft.index[dft.state == 'canceled'],inplace=True)\n",
    "dft.drop(dft.index[dft.state == 'undefined'],inplace=True)\n",
    "dft.drop(dft.index[dft.state == 'live'],inplace=True)\n",
    "dft.drop(dft.index[dft.state == 'suspended'],inplace=True)\n",
    "dft['state']=dft['state'].replace('failed',0)\n",
    "dft['state']=dft['state'].replace('successful',1)\n",
    "dft=dft.reset_index(drop=True)\n",
    "dft['state'].hist(bins=10)"
   ]
  },
  {
   "cell_type": "code",
   "execution_count": 36,
   "metadata": {},
   "outputs": [
    {
     "data": {
      "text/html": [
       "<div>\n",
       "<style scoped>\n",
       "    .dataframe tbody tr th:only-of-type {\n",
       "        vertical-align: middle;\n",
       "    }\n",
       "\n",
       "    .dataframe tbody tr th {\n",
       "        vertical-align: top;\n",
       "    }\n",
       "\n",
       "    .dataframe thead th {\n",
       "        text-align: right;\n",
       "    }\n",
       "</style>\n",
       "<table border=\"1\" class=\"dataframe\">\n",
       "  <thead>\n",
       "    <tr style=\"text-align: right;\">\n",
       "      <th></th>\n",
       "      <th>main_category</th>\n",
       "      <th>currency</th>\n",
       "      <th>deadline</th>\n",
       "      <th>state</th>\n",
       "      <th>country</th>\n",
       "      <th>usd_goal_real</th>\n",
       "    </tr>\n",
       "  </thead>\n",
       "  <tbody>\n",
       "    <tr>\n",
       "      <th>0</th>\n",
       "      <td>Publishing</td>\n",
       "      <td>GBP</td>\n",
       "      <td>2015-10-09</td>\n",
       "      <td>0</td>\n",
       "      <td>GB</td>\n",
       "      <td>1533.95</td>\n",
       "    </tr>\n",
       "    <tr>\n",
       "      <th>1</th>\n",
       "      <td>Film &amp; Video</td>\n",
       "      <td>USD</td>\n",
       "      <td>2017-11-01</td>\n",
       "      <td>0</td>\n",
       "      <td>US</td>\n",
       "      <td>30000.00</td>\n",
       "    </tr>\n",
       "    <tr>\n",
       "      <th>2</th>\n",
       "      <td>Film &amp; Video</td>\n",
       "      <td>USD</td>\n",
       "      <td>2013-02-26</td>\n",
       "      <td>0</td>\n",
       "      <td>US</td>\n",
       "      <td>45000.00</td>\n",
       "    </tr>\n",
       "    <tr>\n",
       "      <th>3</th>\n",
       "      <td>Music</td>\n",
       "      <td>USD</td>\n",
       "      <td>2012-04-16</td>\n",
       "      <td>0</td>\n",
       "      <td>US</td>\n",
       "      <td>5000.00</td>\n",
       "    </tr>\n",
       "    <tr>\n",
       "      <th>4</th>\n",
       "      <td>Food</td>\n",
       "      <td>USD</td>\n",
       "      <td>2016-04-01</td>\n",
       "      <td>1</td>\n",
       "      <td>US</td>\n",
       "      <td>50000.00</td>\n",
       "    </tr>\n",
       "  </tbody>\n",
       "</table>\n",
       "</div>"
      ],
      "text/plain": [
       "  main_category currency    deadline  state country  usd_goal_real\n",
       "0    Publishing      GBP  2015-10-09      0      GB        1533.95\n",
       "1  Film & Video      USD  2017-11-01      0      US       30000.00\n",
       "2  Film & Video      USD  2013-02-26      0      US       45000.00\n",
       "3         Music      USD  2012-04-16      0      US        5000.00\n",
       "4          Food      USD  2016-04-01      1      US       50000.00"
      ]
     },
     "execution_count": 36,
     "metadata": {},
     "output_type": "execute_result"
    }
   ],
   "source": [
    "dft=dft.drop(['ID','name','category','usd pledged','goal','launched','pledged','backers','usd_pledged_real'],axis=1)\n",
    "dft.head()"
   ]
  },
  {
   "cell_type": "code",
   "execution_count": 37,
   "metadata": {},
   "outputs": [
    {
     "name": "stdout",
     "output_type": "stream",
     "text": [
      "Film & Video    56527\n",
      "Music           45949\n",
      "Publishing      35445\n",
      "Games           28521\n",
      "Technology      27050\n",
      "Art             25641\n",
      "Design          25364\n",
      "Food            22054\n",
      "Fashion         19775\n",
      "Theater         10242\n",
      "Comics           9878\n",
      "Photography      9689\n",
      "Crafts           7818\n",
      "Journalism       4149\n",
      "Dance            3573\n",
      "Name: main_category, dtype: int64\n"
     ]
    }
   ],
   "source": [
    "print(dft['main_category'].value_counts())"
   ]
  },
  {
   "cell_type": "code",
   "execution_count": 38,
   "metadata": {},
   "outputs": [
    {
     "name": "stdout",
     "output_type": "stream",
     "text": [
      "1     56527\n",
      "2     45949\n",
      "3     35445\n",
      "4     28521\n",
      "5     27050\n",
      "6     25641\n",
      "7     25364\n",
      "8     22054\n",
      "9     19775\n",
      "10    10242\n",
      "11     9878\n",
      "12     9689\n",
      "13     7818\n",
      "14     4149\n",
      "15     3573\n",
      "Name: main_category, dtype: int64\n"
     ]
    }
   ],
   "source": [
    "dft['main_category']=dft['main_category'].replace('Film & Video',1)\n",
    "dft['main_category']=dft['main_category'].replace('Music',2)\n",
    "dft['main_category']=dft['main_category'].replace('Publishing',3)\n",
    "dft['main_category']=dft['main_category'].replace('Games',4)\n",
    "dft['main_category']=dft['main_category'].replace('Technology',5)\n",
    "dft['main_category']=dft['main_category'].replace('Art',6)\n",
    "dft['main_category']=dft['main_category'].replace('Design',7)\n",
    "dft['main_category']=dft['main_category'].replace('Food',8)\n",
    "dft['main_category']=dft['main_category'].replace('Fashion',9)\n",
    "dft['main_category']=dft['main_category'].replace('Theater',10)\n",
    "dft['main_category']=dft['main_category'].replace('Comics',11)\n",
    "dft['main_category']=dft['main_category'].replace('Photography',12)\n",
    "dft['main_category']=dft['main_category'].replace('Crafts',13)\n",
    "dft['main_category']=dft['main_category'].replace('Journalism',14)\n",
    "dft['main_category']=dft['main_category'].replace('Dance',15)\n",
    "print(dft['main_category'].value_counts())"
   ]
  },
  {
   "cell_type": "code",
   "execution_count": 39,
   "metadata": {},
   "outputs": [
    {
     "name": "stdout",
     "output_type": "stream",
     "text": [
      "US      261360\n",
      "GB       29454\n",
      "CA       12370\n",
      "AU        6616\n",
      "DE        3436\n",
      "FR        2520\n",
      "NL        2411\n",
      "IT        2369\n",
      "ES        1873\n",
      "SE        1509\n",
      "MX        1411\n",
      "NZ        1274\n",
      "DK         926\n",
      "IE         683\n",
      "CH         652\n",
      "NO         582\n",
      "BE         523\n",
      "AT         485\n",
      "HK         477\n",
      "SG         454\n",
      "N,0\"       210\n",
      "LU          57\n",
      "JP          23\n",
      "Name: country, dtype: int64\n"
     ]
    }
   ],
   "source": [
    "print(dft['country'].value_counts())"
   ]
  },
  {
   "cell_type": "code",
   "execution_count": 40,
   "metadata": {},
   "outputs": [
    {
     "name": "stdout",
     "output_type": "stream",
     "text": [
      "1    261360\n",
      "0     70315\n",
      "Name: country, dtype: int64\n"
     ]
    }
   ],
   "source": [
    "dft['country']=dft['country'].replace('US',1)\n",
    "mask = dft.country != 1\n",
    "dft.loc[mask,'country']=0\n",
    "print(dft['country'].value_counts())"
   ]
  },
  {
   "cell_type": "code",
   "execution_count": 41,
   "metadata": {},
   "outputs": [
    {
     "data": {
      "text/html": [
       "<div>\n",
       "<style scoped>\n",
       "    .dataframe tbody tr th:only-of-type {\n",
       "        vertical-align: middle;\n",
       "    }\n",
       "\n",
       "    .dataframe tbody tr th {\n",
       "        vertical-align: top;\n",
       "    }\n",
       "\n",
       "    .dataframe thead th {\n",
       "        text-align: right;\n",
       "    }\n",
       "</style>\n",
       "<table border=\"1\" class=\"dataframe\">\n",
       "  <thead>\n",
       "    <tr style=\"text-align: right;\">\n",
       "      <th></th>\n",
       "      <th>main_category</th>\n",
       "      <th>currency</th>\n",
       "      <th>deadline</th>\n",
       "      <th>state</th>\n",
       "      <th>country</th>\n",
       "      <th>usd_goal_real</th>\n",
       "      <th>period</th>\n",
       "    </tr>\n",
       "  </thead>\n",
       "  <tbody>\n",
       "    <tr>\n",
       "      <th>0</th>\n",
       "      <td>3</td>\n",
       "      <td>GBP</td>\n",
       "      <td>2015-10-09</td>\n",
       "      <td>0</td>\n",
       "      <td>0</td>\n",
       "      <td>1533.95</td>\n",
       "      <td>16717.0</td>\n",
       "    </tr>\n",
       "    <tr>\n",
       "      <th>1</th>\n",
       "      <td>1</td>\n",
       "      <td>USD</td>\n",
       "      <td>2017-11-01</td>\n",
       "      <td>0</td>\n",
       "      <td>1</td>\n",
       "      <td>30000.00</td>\n",
       "      <td>17471.0</td>\n",
       "    </tr>\n",
       "    <tr>\n",
       "      <th>2</th>\n",
       "      <td>1</td>\n",
       "      <td>USD</td>\n",
       "      <td>2013-02-26</td>\n",
       "      <td>0</td>\n",
       "      <td>1</td>\n",
       "      <td>45000.00</td>\n",
       "      <td>15762.0</td>\n",
       "    </tr>\n",
       "    <tr>\n",
       "      <th>3</th>\n",
       "      <td>2</td>\n",
       "      <td>USD</td>\n",
       "      <td>2012-04-16</td>\n",
       "      <td>0</td>\n",
       "      <td>1</td>\n",
       "      <td>5000.00</td>\n",
       "      <td>15446.0</td>\n",
       "    </tr>\n",
       "    <tr>\n",
       "      <th>4</th>\n",
       "      <td>8</td>\n",
       "      <td>USD</td>\n",
       "      <td>2016-04-01</td>\n",
       "      <td>1</td>\n",
       "      <td>1</td>\n",
       "      <td>50000.00</td>\n",
       "      <td>16892.0</td>\n",
       "    </tr>\n",
       "  </tbody>\n",
       "</table>\n",
       "</div>"
      ],
      "text/plain": [
       "   main_category currency    deadline  state  country  usd_goal_real   period\n",
       "0              3      GBP  2015-10-09      0        0        1533.95  16717.0\n",
       "1              1      USD  2017-11-01      0        1       30000.00  17471.0\n",
       "2              1      USD  2013-02-26      0        1       45000.00  15762.0\n",
       "3              2      USD  2012-04-16      0        1        5000.00  15446.0\n",
       "4              8      USD  2016-04-01      1        1       50000.00  16892.0"
      ]
     },
     "execution_count": 41,
     "metadata": {},
     "output_type": "execute_result"
    }
   ],
   "source": [
    "p = pd.to_datetime(dft.deadline).values\n",
    "p = p.astype(np.float32)/(1000000000*60*60*24)\n",
    "p = pd.DataFrame(p,dtype='float32')\n",
    "dft = pd.concat([dft,p],axis=1)\n",
    "dft = dft.rename(columns={0:'period'})\n",
    "\n",
    "dft.head()"
   ]
  },
  {
   "cell_type": "code",
   "execution_count": 42,
   "metadata": {},
   "outputs": [
    {
     "data": {
      "text/html": [
       "<div>\n",
       "<style scoped>\n",
       "    .dataframe tbody tr th:only-of-type {\n",
       "        vertical-align: middle;\n",
       "    }\n",
       "\n",
       "    .dataframe tbody tr th {\n",
       "        vertical-align: top;\n",
       "    }\n",
       "\n",
       "    .dataframe thead th {\n",
       "        text-align: right;\n",
       "    }\n",
       "</style>\n",
       "<table border=\"1\" class=\"dataframe\">\n",
       "  <thead>\n",
       "    <tr style=\"text-align: right;\">\n",
       "      <th></th>\n",
       "      <th>main_category</th>\n",
       "      <th>currency</th>\n",
       "      <th>state</th>\n",
       "      <th>country</th>\n",
       "      <th>usd_goal_real</th>\n",
       "      <th>period</th>\n",
       "    </tr>\n",
       "  </thead>\n",
       "  <tbody>\n",
       "    <tr>\n",
       "      <th>0</th>\n",
       "      <td>3</td>\n",
       "      <td>GBP</td>\n",
       "      <td>0</td>\n",
       "      <td>0</td>\n",
       "      <td>1533.95</td>\n",
       "      <td>16717.0</td>\n",
       "    </tr>\n",
       "    <tr>\n",
       "      <th>1</th>\n",
       "      <td>1</td>\n",
       "      <td>USD</td>\n",
       "      <td>0</td>\n",
       "      <td>1</td>\n",
       "      <td>30000.00</td>\n",
       "      <td>17471.0</td>\n",
       "    </tr>\n",
       "    <tr>\n",
       "      <th>2</th>\n",
       "      <td>1</td>\n",
       "      <td>USD</td>\n",
       "      <td>0</td>\n",
       "      <td>1</td>\n",
       "      <td>45000.00</td>\n",
       "      <td>15762.0</td>\n",
       "    </tr>\n",
       "    <tr>\n",
       "      <th>3</th>\n",
       "      <td>2</td>\n",
       "      <td>USD</td>\n",
       "      <td>0</td>\n",
       "      <td>1</td>\n",
       "      <td>5000.00</td>\n",
       "      <td>15446.0</td>\n",
       "    </tr>\n",
       "    <tr>\n",
       "      <th>4</th>\n",
       "      <td>8</td>\n",
       "      <td>USD</td>\n",
       "      <td>1</td>\n",
       "      <td>1</td>\n",
       "      <td>50000.00</td>\n",
       "      <td>16892.0</td>\n",
       "    </tr>\n",
       "  </tbody>\n",
       "</table>\n",
       "</div>"
      ],
      "text/plain": [
       "   main_category currency  state  country  usd_goal_real   period\n",
       "0              3      GBP      0        0        1533.95  16717.0\n",
       "1              1      USD      0        1       30000.00  17471.0\n",
       "2              1      USD      0        1       45000.00  15762.0\n",
       "3              2      USD      0        1        5000.00  15446.0\n",
       "4              8      USD      1        1       50000.00  16892.0"
      ]
     },
     "execution_count": 42,
     "metadata": {},
     "output_type": "execute_result"
    }
   ],
   "source": [
    "dft=dft.drop(['deadline'],axis=1)\n",
    "dft.head()"
   ]
  },
  {
   "cell_type": "code",
   "execution_count": 43,
   "metadata": {},
   "outputs": [
    {
     "name": "stdout",
     "output_type": "stream",
     "text": [
      "USD    261511\n",
      "GBP     29476\n",
      "EUR     14378\n",
      "CAD     12375\n",
      "AUD      6621\n",
      "SEK      1510\n",
      "MXN      1411\n",
      "NZD      1274\n",
      "DKK       929\n",
      "CHF       652\n",
      "NOK       584\n",
      "HKD       477\n",
      "SGD       454\n",
      "JPY        23\n",
      "Name: currency, dtype: int64\n"
     ]
    }
   ],
   "source": [
    "print(dft['currency'].value_counts())"
   ]
  },
  {
   "cell_type": "markdown",
   "metadata": {},
   "source": [
    "country は01にしてしまったので、currencyはきっちりと振り分けてみる  \n"
   ]
  },
  {
   "cell_type": "code",
   "execution_count": 44,
   "metadata": {},
   "outputs": [
    {
     "name": "stdout",
     "output_type": "stream",
     "text": [
      "1     261511\n",
      "2      29476\n",
      "3      14378\n",
      "4      12375\n",
      "5       6621\n",
      "6       1510\n",
      "7       1411\n",
      "8       1274\n",
      "9        929\n",
      "10       652\n",
      "11       584\n",
      "12       477\n",
      "13       454\n",
      "14        23\n",
      "Name: currency, dtype: int64\n"
     ]
    }
   ],
   "source": [
    "dft['currency']=dft['currency'].replace('USD',1)\n",
    "dft['currency']=dft['currency'].replace('GBP',2)\n",
    "dft['currency']=dft['currency'].replace('EUR',3)\n",
    "dft['currency']=dft['currency'].replace('CAD',4)\n",
    "dft['currency']=dft['currency'].replace('AUD',5)\n",
    "dft['currency']=dft['currency'].replace('SEK',6)\n",
    "dft['currency']=dft['currency'].replace('MXN',7)\n",
    "dft['currency']=dft['currency'].replace('NZD',8)\n",
    "dft['currency']=dft['currency'].replace('DKK',9)\n",
    "dft['currency']=dft['currency'].replace('CHF',10)\n",
    "dft['currency']=dft['currency'].replace('NOK',11)\n",
    "dft['currency']=dft['currency'].replace('HKD',12)\n",
    "dft['currency']=dft['currency'].replace('SGD',13)\n",
    "dft['currency']=dft['currency'].replace('JPY',14)\n",
    "print(dft['currency'].value_counts())"
   ]
  },
  {
   "cell_type": "code",
   "execution_count": 45,
   "metadata": {},
   "outputs": [
    {
     "data": {
      "text/html": [
       "<div>\n",
       "<style scoped>\n",
       "    .dataframe tbody tr th:only-of-type {\n",
       "        vertical-align: middle;\n",
       "    }\n",
       "\n",
       "    .dataframe tbody tr th {\n",
       "        vertical-align: top;\n",
       "    }\n",
       "\n",
       "    .dataframe thead th {\n",
       "        text-align: right;\n",
       "    }\n",
       "</style>\n",
       "<table border=\"1\" class=\"dataframe\">\n",
       "  <thead>\n",
       "    <tr style=\"text-align: right;\">\n",
       "      <th></th>\n",
       "      <th>main_category</th>\n",
       "      <th>currency</th>\n",
       "      <th>state</th>\n",
       "      <th>country</th>\n",
       "      <th>usd_goal_real</th>\n",
       "      <th>period</th>\n",
       "    </tr>\n",
       "  </thead>\n",
       "  <tbody>\n",
       "    <tr>\n",
       "      <th>0</th>\n",
       "      <td>3</td>\n",
       "      <td>2</td>\n",
       "      <td>0</td>\n",
       "      <td>0</td>\n",
       "      <td>1533.95</td>\n",
       "      <td>16717.0</td>\n",
       "    </tr>\n",
       "    <tr>\n",
       "      <th>1</th>\n",
       "      <td>1</td>\n",
       "      <td>1</td>\n",
       "      <td>0</td>\n",
       "      <td>1</td>\n",
       "      <td>30000.00</td>\n",
       "      <td>17471.0</td>\n",
       "    </tr>\n",
       "    <tr>\n",
       "      <th>2</th>\n",
       "      <td>1</td>\n",
       "      <td>1</td>\n",
       "      <td>0</td>\n",
       "      <td>1</td>\n",
       "      <td>45000.00</td>\n",
       "      <td>15762.0</td>\n",
       "    </tr>\n",
       "    <tr>\n",
       "      <th>3</th>\n",
       "      <td>2</td>\n",
       "      <td>1</td>\n",
       "      <td>0</td>\n",
       "      <td>1</td>\n",
       "      <td>5000.00</td>\n",
       "      <td>15446.0</td>\n",
       "    </tr>\n",
       "    <tr>\n",
       "      <th>4</th>\n",
       "      <td>8</td>\n",
       "      <td>1</td>\n",
       "      <td>1</td>\n",
       "      <td>1</td>\n",
       "      <td>50000.00</td>\n",
       "      <td>16892.0</td>\n",
       "    </tr>\n",
       "  </tbody>\n",
       "</table>\n",
       "</div>"
      ],
      "text/plain": [
       "   main_category  currency  state  country  usd_goal_real   period\n",
       "0              3         2      0        0        1533.95  16717.0\n",
       "1              1         1      0        1       30000.00  17471.0\n",
       "2              1         1      0        1       45000.00  15762.0\n",
       "3              2         1      0        1        5000.00  15446.0\n",
       "4              8         1      1        1       50000.00  16892.0"
      ]
     },
     "execution_count": 45,
     "metadata": {},
     "output_type": "execute_result"
    }
   ],
   "source": [
    "dft.head()"
   ]
  },
  {
   "cell_type": "code",
   "execution_count": 46,
   "metadata": {},
   "outputs": [
    {
     "data": {
      "text/html": [
       "<div>\n",
       "<style scoped>\n",
       "    .dataframe tbody tr th:only-of-type {\n",
       "        vertical-align: middle;\n",
       "    }\n",
       "\n",
       "    .dataframe tbody tr th {\n",
       "        vertical-align: top;\n",
       "    }\n",
       "\n",
       "    .dataframe thead th {\n",
       "        text-align: right;\n",
       "    }\n",
       "</style>\n",
       "<table border=\"1\" class=\"dataframe\">\n",
       "  <thead>\n",
       "    <tr style=\"text-align: right;\">\n",
       "      <th></th>\n",
       "      <th>main_category</th>\n",
       "      <th>currency</th>\n",
       "      <th>state</th>\n",
       "      <th>country</th>\n",
       "      <th>usd_goal_real</th>\n",
       "      <th>period</th>\n",
       "    </tr>\n",
       "  </thead>\n",
       "  <tbody>\n",
       "    <tr>\n",
       "      <th>main_category</th>\n",
       "      <td>1.000000</td>\n",
       "      <td>0.044497</td>\n",
       "      <td>-0.033510</td>\n",
       "      <td>-0.053063</td>\n",
       "      <td>-0.007471</td>\n",
       "      <td>0.147100</td>\n",
       "    </tr>\n",
       "    <tr>\n",
       "      <th>currency</th>\n",
       "      <td>0.044497</td>\n",
       "      <td>1.000000</td>\n",
       "      <td>-0.053551</td>\n",
       "      <td>-0.729780</td>\n",
       "      <td>0.003968</td>\n",
       "      <td>0.268716</td>\n",
       "    </tr>\n",
       "    <tr>\n",
       "      <th>state</th>\n",
       "      <td>-0.033510</td>\n",
       "      <td>-0.053551</td>\n",
       "      <td>1.000000</td>\n",
       "      <td>0.056250</td>\n",
       "      <td>-0.023735</td>\n",
       "      <td>-0.078055</td>\n",
       "    </tr>\n",
       "    <tr>\n",
       "      <th>country</th>\n",
       "      <td>-0.053063</td>\n",
       "      <td>-0.729780</td>\n",
       "      <td>0.056250</td>\n",
       "      <td>1.000000</td>\n",
       "      <td>-0.003756</td>\n",
       "      <td>-0.305595</td>\n",
       "    </tr>\n",
       "    <tr>\n",
       "      <th>usd_goal_real</th>\n",
       "      <td>-0.007471</td>\n",
       "      <td>0.003968</td>\n",
       "      <td>-0.023735</td>\n",
       "      <td>-0.003756</td>\n",
       "      <td>1.000000</td>\n",
       "      <td>0.012949</td>\n",
       "    </tr>\n",
       "    <tr>\n",
       "      <th>period</th>\n",
       "      <td>0.147100</td>\n",
       "      <td>0.268716</td>\n",
       "      <td>-0.078055</td>\n",
       "      <td>-0.305595</td>\n",
       "      <td>0.012949</td>\n",
       "      <td>1.000000</td>\n",
       "    </tr>\n",
       "  </tbody>\n",
       "</table>\n",
       "</div>"
      ],
      "text/plain": [
       "               main_category  currency     state   country  usd_goal_real  \\\n",
       "main_category       1.000000  0.044497 -0.033510 -0.053063      -0.007471   \n",
       "currency            0.044497  1.000000 -0.053551 -0.729780       0.003968   \n",
       "state              -0.033510 -0.053551  1.000000  0.056250      -0.023735   \n",
       "country            -0.053063 -0.729780  0.056250  1.000000      -0.003756   \n",
       "usd_goal_real      -0.007471  0.003968 -0.023735 -0.003756       1.000000   \n",
       "period              0.147100  0.268716 -0.078055 -0.305595       0.012949   \n",
       "\n",
       "                 period  \n",
       "main_category  0.147100  \n",
       "currency       0.268716  \n",
       "state         -0.078055  \n",
       "country       -0.305595  \n",
       "usd_goal_real  0.012949  \n",
       "period         1.000000  "
      ]
     },
     "execution_count": 46,
     "metadata": {},
     "output_type": "execute_result"
    }
   ],
   "source": [
    "dft.corr()"
   ]
  },
  {
   "cell_type": "code",
   "execution_count": 47,
   "metadata": {},
   "outputs": [
    {
     "data": {
      "image/png": "[encoded data removed]",
      "text/plain": [
       "<Figure size 432x288 with 2 Axes>"
      ]
     },
     "metadata": {
      "needs_background": "light"
     },
     "output_type": "display_data"
    }
   ],
   "source": [
    "sns.heatmap(dft.corr())\n",
    "plt.show()"
   ]
  },
  {
   "cell_type": "code",
   "execution_count": 48,
   "metadata": {},
   "outputs": [
    {
     "data": {
      "image/png": "[encoded data removed]",
      "text/plain": [
       "<Figure size 720x720 with 36 Axes>"
      ]
     },
     "metadata": {
      "needs_background": "light"
     },
     "output_type": "display_data"
    }
   ],
   "source": [
    "pd.plotting.scatter_matrix(dft, figsize=(10,10))\n",
    "plt.show()"
   ]
  },
  {
   "cell_type": "code",
   "execution_count": 49,
   "metadata": {},
   "outputs": [
    {
     "data": {
      "text/html": [
       "<div>\n",
       "<style scoped>\n",
       "    .dataframe tbody tr th:only-of-type {\n",
       "        vertical-align: middle;\n",
       "    }\n",
       "\n",
       "    .dataframe tbody tr th {\n",
       "        vertical-align: top;\n",
       "    }\n",
       "\n",
       "    .dataframe thead th {\n",
       "        text-align: right;\n",
       "    }\n",
       "</style>\n",
       "<table border=\"1\" class=\"dataframe\">\n",
       "  <thead>\n",
       "    <tr style=\"text-align: right;\">\n",
       "      <th></th>\n",
       "      <th>state</th>\n",
       "      <th>main_category</th>\n",
       "      <th>currency</th>\n",
       "      <th>country</th>\n",
       "      <th>usd_goal_real</th>\n",
       "      <th>period</th>\n",
       "    </tr>\n",
       "  </thead>\n",
       "  <tbody>\n",
       "    <tr>\n",
       "      <th>0</th>\n",
       "      <td>0</td>\n",
       "      <td>3</td>\n",
       "      <td>2</td>\n",
       "      <td>0</td>\n",
       "      <td>1533.95</td>\n",
       "      <td>16717.0</td>\n",
       "    </tr>\n",
       "    <tr>\n",
       "      <th>1</th>\n",
       "      <td>0</td>\n",
       "      <td>1</td>\n",
       "      <td>1</td>\n",
       "      <td>1</td>\n",
       "      <td>30000.00</td>\n",
       "      <td>17471.0</td>\n",
       "    </tr>\n",
       "    <tr>\n",
       "      <th>2</th>\n",
       "      <td>0</td>\n",
       "      <td>1</td>\n",
       "      <td>1</td>\n",
       "      <td>1</td>\n",
       "      <td>45000.00</td>\n",
       "      <td>15762.0</td>\n",
       "    </tr>\n",
       "    <tr>\n",
       "      <th>3</th>\n",
       "      <td>0</td>\n",
       "      <td>2</td>\n",
       "      <td>1</td>\n",
       "      <td>1</td>\n",
       "      <td>5000.00</td>\n",
       "      <td>15446.0</td>\n",
       "    </tr>\n",
       "    <tr>\n",
       "      <th>4</th>\n",
       "      <td>1</td>\n",
       "      <td>8</td>\n",
       "      <td>1</td>\n",
       "      <td>1</td>\n",
       "      <td>50000.00</td>\n",
       "      <td>16892.0</td>\n",
       "    </tr>\n",
       "  </tbody>\n",
       "</table>\n",
       "</div>"
      ],
      "text/plain": [
       "   state  main_category  currency  country  usd_goal_real   period\n",
       "0      0              3         2        0        1533.95  16717.0\n",
       "1      0              1         1        1       30000.00  17471.0\n",
       "2      0              1         1        1       45000.00  15762.0\n",
       "3      0              2         1        1        5000.00  15446.0\n",
       "4      1              8         1        1       50000.00  16892.0"
      ]
     },
     "execution_count": 49,
     "metadata": {},
     "output_type": "execute_result"
    }
   ],
   "source": [
    "dft=dft.loc[:,['state','main_category', 'currency','country','usd_goal_real', 'period']]\n",
    "dft.head()"
   ]
  },
  {
   "cell_type": "markdown",
   "metadata": {},
   "source": [
    "stateに対する相関係数が驚くぐらい低いが、このままロジスティック回帰にかけてみる。"
   ]
  },
  {
   "cell_type": "code",
   "execution_count": 50,
   "metadata": {},
   "outputs": [
    {
     "name": "stdout",
     "output_type": "stream",
     "text": [
      "対数尤度 = -13.949\n",
      "正答率 = 59.612%\n"
     ]
    },
    {
     "data": {
      "text/html": [
       "<div>\n",
       "<style scoped>\n",
       "    .dataframe tbody tr th:only-of-type {\n",
       "        vertical-align: middle;\n",
       "    }\n",
       "\n",
       "    .dataframe tbody tr th {\n",
       "        vertical-align: top;\n",
       "    }\n",
       "\n",
       "    .dataframe thead th {\n",
       "        text-align: right;\n",
       "    }\n",
       "</style>\n",
       "<table border=\"1\" class=\"dataframe\">\n",
       "  <thead>\n",
       "    <tr style=\"text-align: right;\">\n",
       "      <th></th>\n",
       "      <th>予測 = 成功しない</th>\n",
       "      <th>予測 = 成功する</th>\n",
       "    </tr>\n",
       "  </thead>\n",
       "  <tbody>\n",
       "    <tr>\n",
       "      <th>正解 = 成功しない</th>\n",
       "      <td>197719</td>\n",
       "      <td>0</td>\n",
       "    </tr>\n",
       "    <tr>\n",
       "      <th>正解 = 成功する</th>\n",
       "      <td>133956</td>\n",
       "      <td>0</td>\n",
       "    </tr>\n",
       "  </tbody>\n",
       "</table>\n",
       "</div>"
      ],
      "text/plain": [
       "            予測 = 成功しない  予測 = 成功する\n",
       "正解 = 成功しない      197719          0\n",
       "正解 = 成功する       133956          0"
      ]
     },
     "execution_count": 50,
     "metadata": {},
     "output_type": "execute_result"
    }
   ],
   "source": [
    "from sklearn.linear_model import SGDClassifier\n",
    "from sklearn.metrics import log_loss, accuracy_score, confusion_matrix\n",
    "y=dft.state.values\n",
    "X=dft.iloc[:,1:].values\n",
    "clf= SGDClassifier(loss='log', penalty='none', max_iter=10000, fit_intercept=True, random_state=1234, tol=1e-3)\n",
    "clf.fit(X, y)\n",
    "y_est = clf.predict(X)\n",
    "print('対数尤度 = {:.3f}'.format(- log_loss(y, y_est)))\n",
    "print('正答率 = {:.3f}%'.format(100 * accuracy_score(y, y_est)))\n",
    "conf_mat = pd.DataFrame(confusion_matrix(y, y_est), \n",
    "                        index=['正解 = 成功しない', '正解 = 成功する'], \n",
    "                        columns=['予測 = 成功しない', '予測 = 成功する'])\n",
    "conf_mat"
   ]
  },
  {
   "cell_type": "markdown",
   "metadata": {},
   "source": [
    "案の定、ひどい結果になった  \n",
    "数字データの値が大きかったり、ばらつき具合が不均一だったりしたので、そこだけ対応してみる。"
   ]
  },
  {
   "cell_type": "code",
   "execution_count": 51,
   "metadata": {},
   "outputs": [
    {
     "data": {
      "text/plain": [
       "<matplotlib.axes._subplots.AxesSubplot at 0x1a8b36b69b0>"
      ]
     },
     "execution_count": 51,
     "metadata": {},
     "output_type": "execute_result"
    },
    {
     "data": {
      "image/png": "[encoded data removed]",
      "text/plain": [
       "<Figure size 432x288 with 1 Axes>"
      ]
     },
     "metadata": {
      "needs_background": "light"
     },
     "output_type": "display_data"
    }
   ],
   "source": [
    "dft.usd_goal_real = np.sqrt(np.sqrt(np.sqrt(dft.usd_goal_real)))\n",
    "dft['usd_goal_real'].hist(bins=25)"
   ]
  },
  {
   "cell_type": "code",
   "execution_count": 52,
   "metadata": {},
   "outputs": [
    {
     "data": {
      "text/plain": [
       "<matplotlib.axes._subplots.AxesSubplot at 0x1a8b3658828>"
      ]
     },
     "execution_count": 52,
     "metadata": {},
     "output_type": "execute_result"
    },
    {
     "data": {
      "image/png": "[encoded data removed]",
      "text/plain": [
       "<Figure size 432x288 with 1 Axes>"
      ]
     },
     "metadata": {
      "needs_background": "light"
     },
     "output_type": "display_data"
    }
   ],
   "source": [
    "dft.period = np.sqrt(np.sqrt((dft.period)))\n",
    "dft['period'].hist(bins=25)"
   ]
  },
  {
   "cell_type": "code",
   "execution_count": 53,
   "metadata": {},
   "outputs": [
    {
     "name": "stdout",
     "output_type": "stream",
     "text": [
      "対数尤度 = -13.230\n",
      "正答率 = 61.695%\n"
     ]
    },
    {
     "data": {
      "text/html": [
       "<div>\n",
       "<style scoped>\n",
       "    .dataframe tbody tr th:only-of-type {\n",
       "        vertical-align: middle;\n",
       "    }\n",
       "\n",
       "    .dataframe tbody tr th {\n",
       "        vertical-align: top;\n",
       "    }\n",
       "\n",
       "    .dataframe thead th {\n",
       "        text-align: right;\n",
       "    }\n",
       "</style>\n",
       "<table border=\"1\" class=\"dataframe\">\n",
       "  <thead>\n",
       "    <tr style=\"text-align: right;\">\n",
       "      <th></th>\n",
       "      <th>予測 = 成功しない</th>\n",
       "      <th>予測 = 成功する</th>\n",
       "    </tr>\n",
       "  </thead>\n",
       "  <tbody>\n",
       "    <tr>\n",
       "      <th>正解 = 成功しない</th>\n",
       "      <td>178127</td>\n",
       "      <td>19592</td>\n",
       "    </tr>\n",
       "    <tr>\n",
       "      <th>正解 = 成功する</th>\n",
       "      <td>107457</td>\n",
       "      <td>26499</td>\n",
       "    </tr>\n",
       "  </tbody>\n",
       "</table>\n",
       "</div>"
      ],
      "text/plain": [
       "            予測 = 成功しない  予測 = 成功する\n",
       "正解 = 成功しない      178127      19592\n",
       "正解 = 成功する       107457      26499"
      ]
     },
     "execution_count": 53,
     "metadata": {},
     "output_type": "execute_result"
    }
   ],
   "source": [
    "y=dft.state.values\n",
    "X=dft.iloc[:,1:].values\n",
    "clf= SGDClassifier(loss='log', penalty='none', max_iter=10000, fit_intercept=True, random_state=1234, tol=1e-3)\n",
    "clf.fit(X, y)\n",
    "y_est = clf.predict(X)\n",
    "print('対数尤度 = {:.3f}'.format(- log_loss(y, y_est)))\n",
    "print('正答率 = {:.3f}%'.format(100 * accuracy_score(y, y_est)))\n",
    "conf_mat = pd.DataFrame(confusion_matrix(y, y_est), \n",
    "                        index=['正解 = 成功しない', '正解 = 成功する'], \n",
    "                        columns=['予測 = 成功しない', '予測 = 成功する'])\n",
    "conf_mat"
   ]
  },
  {
   "cell_type": "code",
   "execution_count": null,
   "metadata": {},
   "outputs": [],
   "source": []
  }
 ],
 "metadata": {
  "kernelspec": {
   "display_name": "Python 3",
   "language": "python",
   "name": "python3"
  },
  "language_info": {
   "codemirror_mode": {
    "name": "ipython",
    "version": 3
   },
   "file_extension": ".py",
   "mimetype": "text/x-python",
   "name": "python",
   "nbconvert_exporter": "python",
   "pygments_lexer": "ipython3",
   "version": "3.7.3"
  }
 },
 "nbformat": 4,
 "nbformat_minor": 2
}
